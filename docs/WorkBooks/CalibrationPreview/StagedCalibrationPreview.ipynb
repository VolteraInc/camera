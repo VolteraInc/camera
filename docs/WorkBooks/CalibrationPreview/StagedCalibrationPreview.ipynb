{
 "cells": [
  {
   "cell_type": "markdown",
   "metadata": {},
   "source": [
    "# Stage Based Calibration\n",
    "\n",
    "This notebook allows the user to adjust calibration parameters to find sensible starting values before attempting to fit. "
   ]
  },
  {
   "cell_type": "code",
   "execution_count": 1,
   "metadata": {},
   "outputs": [],
   "source": [
    "import volteracamera.intrinsics.stage_calibration as sc\n",
    "from volteracamera.analysis.undistort import Undistort\n",
    "from volteracamera.analysis.transform import Transform\n",
    "import numpy as np\n",
    "import matplotlib.pyplot as plt\n",
    "\n",
    "from ipywidgets import interact, interactive, fixed, interact_manual, FloatSlider\n",
    "import ipywidgets as widgets\n",
    "from IPython.display import display\n",
    "\n",
    "input_file = \"/home/rwicks/Voltera/camera/paper_cal_output.csv\""
   ]
  },
  {
   "cell_type": "code",
   "execution_count": 2,
   "metadata": {},
   "outputs": [],
   "source": [
    "data = np.loadtxt(input_file, delimiter=\",\")\n",
    "\n",
    "#filter out bad point (y > 7) for the original datasets. Need to add better filters.\n",
    "position = []\n",
    "points_2d = []\n",
    "for x, y, z, u, v in data:\n",
    "    if y >=7:\n",
    "        continue\n",
    "    position.append(np.array([x, y, z])/1000)\n",
    "    points_2d.append(np.array([u, v]))"
   ]
  },
  {
   "cell_type": "code",
   "execution_count": 3,
   "metadata": {},
   "outputs": [
    {
     "data": {
      "application/vnd.jupyter.widget-view+json": {
       "model_id": "a2efffa7850b410f8d773e0db923d757",
       "version_major": 2,
       "version_minor": 0
      },
      "text/plain": [
       "interactive(children=(FloatSlider(value=6325.0, continuous_update=False, description='fx', max=8000.0, min=400…"
      ]
     },
     "metadata": {},
     "output_type": "display_data"
    }
   ],
   "source": [
    "def points_projected (points_3d, points_2d, fx=6325, fy=6325, cx=1640, cy=1232, rx=-0.11327094, ry=-0.0359958, rz=1.55522712, tx=0.001659, ty=-0.00299, tz=0.019462):\n",
    "    \"\"\"\n",
    "    Get residuals of projected 3d points, compared to the imaged points (two points for each points)\n",
    "    \"\"\"\n",
    "    cam_matrix = np.array([[fx, 0, cx], [0, fy, cy], [0, 0, 1]]) \n",
    "    distortion = np.array([0, 0, 0, 0, 0])\n",
    "    undistort = Undistort(cam_matrix, np.array([0, 0, 0, 0, 0]))\n",
    "    transform = Transform(rotation=[rx, ry, rz], translation=[tx, ty, tz])\n",
    "    projected = np.array([ sc.get_projected(point_3d, undistort, transform) for point_3d in points_3d])\n",
    "    residuals = np.array([proj-orig for proj, orig in zip (projected, points_2d)])\n",
    "    resid = np.abs(residuals.flatten()).sum()\n",
    "    print (\"Residuals={}\".format(resid))\n",
    "    machine_resid = sc.single_residual([fx, fy, cx, cy, 0, 0, 0, 0, 0, rx, ry, rz, tx, ty, tz], points_3d, points_2d)\n",
    "    print (\"Machine Residuals={}\".format (machine_resid))\n",
    "    plt.scatter (*zip(*points_2d), color=\"red\")\n",
    "    plt.scatter (*zip(*projected), color=\"blue\")\n",
    "    plt.plot([projected[0][0], points_2d[0][0]], [projected[0][1], points_2d[0][1]], color=\"g\", linestyle  =\"-\")\n",
    "    plt.show()\n",
    "    \n",
    "\n",
    "\n",
    "y=interactive(points_projected,\n",
    "              fx=FloatSlider(value=6325, min=4000, max=8000, step=1, continuous_update=False),\n",
    "              fy=FloatSlider(value=6325, min=4000, max=8000, step=1, continuous_update=False), \n",
    "              cx=FloatSlider(value=1640, min=500, max=2000, step=1, continuous_update=False),\n",
    "              cy=FloatSlider(value=1232, min=500, max=2000, step=1, continuous_update=False), \n",
    "              rx=FloatSlider(value=-0.11327094, min=-np.pi, max=np.pi, step=0.01, continuous_update=False),\n",
    "              ry=FloatSlider(value=-0.03599582, min=-np.pi, max=np.pi, step=0.01, continuous_update=False),\n",
    "              rz=FloatSlider(value=1.55522712, min=-np.pi, max=np.pi, step=0.01, continuous_update=False),\n",
    "              tx=FloatSlider(value=0.00165974, min=-0.1, max=0.1, step=0.0002, continuous_update=False),\n",
    "              ty=FloatSlider(value=-0.00299121, min=-0.1, max=0.1, step=0.0002, continuous_update=False),\n",
    "              tz=FloatSlider(value=0.01946288, min=-0.1, max=0.1, step=0.001, continuous_update=False),\n",
    "              points_3d=fixed(position), points_2d=fixed(points_2d))\n",
    "#23.4 mm is the 0 position.\n",
    "\n",
    "display(y)"
   ]
  },
  {
   "cell_type": "code",
   "execution_count": 5,
   "metadata": {},
   "outputs": [
    {
     "name": "stdout",
     "output_type": "stream",
     "text": [
      "Actual Fit:\n",
      "Fit sucessful.\n",
      "Camera Matrix:\n",
      "[[6.25560278e+03 0.00000000e+00 1.63300298e+03]\n",
      " [0.00000000e+00 6.22861606e+03 1.20690756e+03]\n",
      " [0.00000000e+00 0.00000000e+00 1.00000000e+00]]\n",
      "Distortion Matrix\n",
      "[-0.16779224 -0.49556149 -0.00290808  0.00257239 -0.24547894]\n",
      "rvec\n",
      "[-0.11356494 -0.02950281  1.5545296 ]\n",
      "tvec\n",
      "[ 0.00167885 -0.00294633  0.01930473]\n",
      "({'__undistort__': True, 'camera_matrix': array([[6.2556025e+03, 0.0000000e+00, 1.6330029e+03],\n",
      "       [0.0000000e+00, 6.2286162e+03, 1.2069076e+03],\n",
      "       [0.0000000e+00, 0.0000000e+00, 1.0000000e+00]], dtype=float32), 'distortion': array([-0.16779223, -0.49556148, -0.00290808,  0.00257239, -0.24547894],\n",
      "      dtype=float32)}, array([[6.25560278e+03, 0.00000000e+00, 1.63300298e+03],\n",
      "       [0.00000000e+00, 6.22861606e+03, 1.20690756e+03],\n",
      "       [0.00000000e+00, 0.00000000e+00, 1.00000000e+00]]), array([-0.16779224, -0.49556149, -0.00290808,  0.00257239, -0.24547894]), array([-0.10159   , -0.03599582,  1.54841   ]), array([ 0.00165974, -0.00299121,  0.01946288]))\n"
     ]
    }
   ],
   "source": [
    "fx = y.children[0].value\n",
    "fy = y.children[1].value\n",
    "cx = y.children[2].value\n",
    "cy = y.children[3].value\n",
    "rx = y.children[4].value\n",
    "ry = y.children[5].value\n",
    "rz = y.children[6].value\n",
    "tx = y.children[7].value\n",
    "ty = y.children[8].value\n",
    "tz = y.children[9].value\n",
    "\n",
    "#reasonable starting values\n",
    "camera_matrix = np.array([[fx, 0, cx], [0, fy, cy], [0, 0, 1]])\n",
    "distortion = np.array([0, 0, 0, 0, 0])\n",
    "rvec = np.array([rx, ry, rz])\n",
    "tvec = np.array([tx, ty, tz])\n",
    "\n",
    "undistort = sc.calibrate_from_3d_points (position, points_2d, camera_matrix, distortion, rvec, tvec)\n",
    "print (undistort)\n",
    "\n",
    "undistort[0].write_file(\"intrinsics.json\")\n",
    "\n"
   ]
  },
  {
   "cell_type": "code",
   "execution_count": null,
   "metadata": {},
   "outputs": [],
   "source": []
  }
 ],
 "metadata": {
  "kernelspec": {
   "display_name": "Python 3",
   "language": "python",
   "name": "python3"
  },
  "language_info": {
   "codemirror_mode": {
    "name": "ipython",
    "version": 3
   },
   "file_extension": ".py",
   "mimetype": "text/x-python",
   "name": "python",
   "nbconvert_exporter": "python",
   "pygments_lexer": "ipython3",
   "version": "3.6.7"
  }
 },
 "nbformat": 4,
 "nbformat_minor": 2
}
