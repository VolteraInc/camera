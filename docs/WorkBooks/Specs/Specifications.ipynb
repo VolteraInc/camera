{
 "cells": [
  {
   "cell_type": "markdown",
   "metadata": {},
   "source": [
    "# Camera and Lens Specification\n",
    "\n",
    "This document outlines the specs of the camera and lens combo used for the Voltera laser camera.\n",
    "\n",
    "## Sensor\n",
    "\n",
    "Total Active Pixels (approx): 3280(H) × 2464(V) approx\n",
    "Total Sensor Size: 3280(H) × 2464(V) approx\n",
    "Pixel size: 1.12 um (H) × 1.12 um (V)\n",
    "\n",
    "## Lens\n",
    "\n",
    "PT-0620 6.0mm, F2.0 Board Lens\n",
    "\n",
    "## Image Size:\n",
    "\n",
    "Width x Height: 1280 x 720 pixels\n",
    "\n",
    "## Expected Intrinsics:\n",
    "\n",
    "Fx = Fy = 6mm / 1.12 um = 5357 pixels\n",
    "Cx = 640\n",
    "Cy = 360\n"
   ]
  },
  {
   "cell_type": "code",
   "execution_count": 3,
   "metadata": {},
   "outputs": [
    {
     "name": "stdout",
     "output_type": "stream",
     "text": [
      "distance: 1.5 cm, FOV Width: (0.17920477879410118, 0.10080268807168191) cm\n",
      "distance: 2 cm, FOV Width: (0.23893970505880158, 0.13440358409557587) cm\n",
      "distance: 2.5 cm, FOV Width: (0.29867463132350197, 0.16800448011946983) cm\n"
     ]
    }
   ],
   "source": [
    "#In this section, we find out how wide the field of view is of the camera at different distances.\n",
    "\n",
    "import numpy as np\n",
    "edge_angle_x = np.arctan(640/5357)\n",
    "edge_angle_y = np.arctan(360/5357)\n",
    "\n",
    "distances = [1.5, 2, 2.5] #in cm\n",
    "\n",
    "widths = []\n",
    "\n",
    "for d in distances:\n",
    "    width = [np.tan(edge_angle_x)* d, np.tan(edge_angle_y)*d]\n",
    "    widths.append(width)\n",
    "    \n",
    "for d, w in zip (distances, widths):\n",
    "    print (\"distance: {} cm, FOV Width: ({}, {}) cm\".format(d, w[0], w[1]))\n"
   ]
  },
  {
   "cell_type": "markdown",
   "metadata": {},
   "source": [
    "## Javascript version\n",
    "\n",
    "Resolution = 3280x2464\n",
    "\n",
    "cx = 1640, cy = 1232"
   ]
  },
  {
   "cell_type": "markdown",
   "metadata": {},
   "source": [
    "## System Geometry\n",
    "\n",
    "### Stage Co-ordinate System\n",
    "\n",
    "- (0, 0) bottom left\n",
    "- positive x moves right\n",
    "- positive y moves up\n",
    "- positive z moving away from camera\n",
    "\n",
    "### Camera Co-ordinate System\n",
    "\n",
    "- (0, 0) top left\n",
    "- positive x moves right\n",
    "- positive y moves down\n",
    "- positive z moving away from camera\n",
    "\n",
    "### Transform from stage to camera\n",
    "\n",
    "Stage system is a left hand co-ordinate system. On load, if we flip the sign on y, we have a proper co-ordinate system, no rotation. \n",
    "\n",
    "Rotation should be (0, 0, 0)\n",
    "Offset should be (5, -2, 23.7) \n",
    "\n"
   ]
  },
  {
   "cell_type": "markdown",
   "metadata": {},
   "source": []
  }
 ],
 "metadata": {
  "kernelspec": {
   "display_name": "Python 3",
   "language": "python",
   "name": "python3"
  },
  "language_info": {
   "codemirror_mode": {
    "name": "ipython",
    "version": 3
   },
   "file_extension": ".py",
   "mimetype": "text/x-python",
   "name": "python",
   "nbconvert_exporter": "python",
   "pygments_lexer": "ipython3",
   "version": "3.6.7"
  }
 },
 "nbformat": 4,
 "nbformat_minor": 2
}
