{
 "cells": [
  {
   "cell_type": "markdown",
   "metadata": {},
   "source": [
    "# Camera and Lens Specification\n",
    "\n",
    "This document outlines the specs of the camera and lens combo used for the Voltera laser camera.\n",
    "\n",
    "## Sensor\n",
    "\n",
    "Total Active Pixels (approx): 3280(H) × 2464(V) approx\n",
    "Total Sensor Size: 3280(H) × 2464(V) approx\n",
    "Pixel size: 1.12 um (H) × 1.12 um (V)\n",
    "\n",
    "## Lens\n",
    "\n",
    "PT-0620 6.0mm, F2.0 Board Lens\n",
    "\n",
    "## Image Size:\n",
    "\n",
    "Width x Height: 1280 x 720 pixels\n",
    "\n",
    "## Expected Intrinsics:\n",
    "\n",
    "Fx = Fy = 6mm / 1.12 um = 5357 pixels\n",
    "Cx = 640\n",
    "Cy = 360\n",
    "\n",
    "\n"
   ]
  }
 ],
 "metadata": {
  "kernelspec": {
   "display_name": "Python 3",
   "language": "python",
   "name": "python3"
  }
 },
 "nbformat": 4,
 "nbformat_minor": 2
}
