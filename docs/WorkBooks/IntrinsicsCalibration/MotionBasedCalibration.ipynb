{
 "cells": [
  {
   "cell_type": "markdown",
   "metadata": {},
   "source": [
    "# Calibration of the Voltera Camera using Controlled Translations\n",
    "\n",
    "In this method, a single point is imaged by the camera and moved through the field of view by the linear stage mechanism. This method avoids the problems with conventional calibrations where the position of the points being imaged are unknown and must be calculated.\n",
    "\n",
    "## Overview of Method\n",
    "\n",
    "We start with a camera that can be described by the 9 parameter RadTan model and a single point at position (0, 0, 0). Then the camera is moved to a new position (or equivalently, the point is moved away from the camera), and an image taken. The rotation and translation of the point are unknown for the first point (R, t). The point is imaged, and it's 3D position is measured by the camera (in 2D image space). The point is them moved, and then re-imaged to produce a new 3D-2D correspondence. This process is continued at different positions and differences (at least 3). The latest position is given by the original R, t transform, followed by a shift from the original position, $t^`$.\n",
    "\n",
    "\n",
    "\n"
   ]
  }
 ],
 "metadata": {
  "kernelspec": {
   "display_name": "Python 3",
   "language": "python",
   "name": "python3"
  },
  "language_info": {
   "codemirror_mode": {
    "name": "ipython",
    "version": 3
   },
   "file_extension": ".py",
   "mimetype": "text/x-python",
   "name": "python",
   "nbconvert_exporter": "python",
   "pygments_lexer": "ipython3",
   "version": "3.5.2"
  }
 },
 "nbformat": 4,
 "nbformat_minor": 2
}
