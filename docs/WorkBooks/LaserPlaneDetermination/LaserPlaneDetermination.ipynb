{
 "cells": [
  {
   "cell_type": "code",
   "execution_count": 1,
   "metadata": {},
   "outputs": [],
   "source": [
    "import numpy as np\n",
    "import transforms3d as tfd"
   ]
  },
  {
   "cell_type": "markdown",
   "metadata": {},
   "source": [
    "# Laser Plane Determination\n",
    "\n",
    "The laser plane produced by the line generator is given by a normal $\\hat{n}$ and a point $\\mathbf{p}$ that lies in the plane. This overconstrains the plane however, and an alternate representation is a normal $\\hat{n}$ and the mininimum/perpendicular distance between the plane and the origin. Or as a linear equation, \n",
    "\n",
    "$$\n",
    "a x + b y + c z + d = 0\n",
    "$$\n",
    "\n",
    "Where the normal vector is given by $(a, b, c)$ when normalized.\n",
    "\n",
    "In this case of an optical system measuring the laser plane, the origin is defined by the focal point of the pinhole camera. The co-ordinate system defined by this camera has the $\\hat{z}$ direction pointing normal to the surface of the sensor and the $\\hat{y}$ direction pointing down the sensor surface ($\\hat{x}$ is defined across the surface with it's direction given by the right hand rule.\n",
    "\n",
    "To find the laser plane, it must be intersected with features of known position and geometry to so that the intersection of the two features can be imaged by the sensor, and the plane/feature intersection can be projected onto the sensor.\n",
    "\n",
    "## Proposed method of plane determination\n",
    "\n",
    "The method proposed here is to place a precision machined block with multiple stepped surface in the path of the laser plane so that the laser light intersects each of the surfaces. \n",
    "\n",
    "Diagram here\n",
    "\n",
    "The intersection of the laser with the various surfaces corresponds to a line representing the intersection of two planes in space (or rather, points that sit on that line). Two surfaces are enough to constrain the laser plane. For the following, we will assume that the laser plane has the unknown parameters a, b, c, d and that we have two laser planes pointing in the $\\hat{z}$ direction at distances $t1$ and $t2$. We must find the two lines that sit in at the intersection of the three planes.\n",
    "\n",
    "$$\n",
    "a x + b y + c z + d = 0\n",
    "z + t_1 = 0\n",
    "z + t_2 = 0\n",
    "$$\n",
    "and"
   ]
  },
  {
   "cell_type": "code",
   "execution_count": null,
   "metadata": {},
   "outputs": [],
   "source": []
  }
 ],
 "metadata": {
  "kernelspec": {
   "display_name": "Python 3",
   "language": "python",
   "name": "python3"
  },
  "language_info": {
   "codemirror_mode": {
    "name": "ipython",
    "version": 3
   },
   "file_extension": ".py",
   "mimetype": "text/x-python",
   "name": "python",
   "nbconvert_exporter": "python",
   "pygments_lexer": "ipython3",
   "version": "3.5.2"
  }
 },
 "nbformat": 4,
 "nbformat_minor": 2
}
